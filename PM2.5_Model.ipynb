import pandas as pd
from sklearn.ensemble import RandomForestRegressor
from sklearn.model_selection import train_test_split
from sklearn.metrics import mean_squared_error, r2_score
import numpy as np
import pickle

df = pd.read_csv("allfinal_newdelhi_dataset_2023.csv")


df.dropna(inplace=True)

X = df.drop(columns=['pm25', 'date'])  
y = df['pm25']                         

X_train, X_test, y_train, y_test = train_test_split(X, y, test_size=0.2, random_state=42)

model = RandomForestRegressor(n_estimators=100, random_state=42)
model.fit(X_train, y_train)

y_pred = model.predict(X_test)
rmse = np.sqrt(mean_squared_error(y_test, y_pred))
r2 = r2_score(y_test, y_pred)

print(f"RMSE: {rmse:.2f}")
print(f"R² Score: {r2:.2f}")

with open("NEWDELHIpm25_predictor_rfl.pkl", "wb") as f:
    pickle.dump(model, f)
